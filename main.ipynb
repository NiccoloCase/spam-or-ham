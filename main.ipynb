{
 "cells": [
  {
   "cell_type": "markdown",
   "metadata": {},
   "source": [
    "# SPAM Hit Man\n",
    "\n",
    "Naive bayes approach to spam detection\n",
    "\n",
    "[Dataset](https://github.com/MWiechmann/enron_spam_data)"
   ]
  },
  {
   "cell_type": "code",
   "execution_count": 3,
   "metadata": {},
   "outputs": [
    {
     "data": {
      "text/html": [
       "<div><style>\n",
       ".dataframe > thead > tr,\n",
       ".dataframe > tbody > tr {\n",
       "  text-align: right;\n",
       "  white-space: pre-wrap;\n",
       "}\n",
       "</style>\n",
       "<small>shape: (33_716, 5)</small><table border=\"1\" class=\"dataframe\"><thead><tr><th>Message ID</th><th>Subject</th><th>Message</th><th>Spam/Ham</th><th>Date</th></tr><tr><td>i64</td><td>str</td><td>str</td><td>str</td><td>str</td></tr></thead><tbody><tr><td>0</td><td>&quot;christmas&nbsp;tree&nbsp;farm&nbsp;pictures&quot;</td><td>null</td><td>&quot;ham&quot;</td><td>&quot;1999-12-10&quot;</td></tr><tr><td>1</td><td>&quot;vastar&nbsp;resources&nbsp;,&nbsp;inc&nbsp;.&quot;</td><td>&quot;gary&nbsp;,&nbsp;production&nbsp;from&nbsp;the&nbsp;hig…</td><td>&quot;ham&quot;</td><td>&quot;1999-12-13&quot;</td></tr><tr><td>2</td><td>&quot;calpine&nbsp;daily&nbsp;gas&nbsp;nomination&quot;</td><td>&quot;-&nbsp;calpine&nbsp;daily&nbsp;gas&nbsp;nomination…</td><td>&quot;ham&quot;</td><td>&quot;1999-12-14&quot;</td></tr><tr><td>3</td><td>&quot;re&nbsp;:&nbsp;issue&quot;</td><td>&quot;fyi&nbsp;-&nbsp;see&nbsp;note&nbsp;below&nbsp;-&nbsp;already…</td><td>&quot;ham&quot;</td><td>&quot;1999-12-14&quot;</td></tr><tr><td>4</td><td>&quot;meter&nbsp;7268&nbsp;nov&nbsp;allocation&quot;</td><td>&quot;fyi&nbsp;.\n",
       "-&nbsp;-&nbsp;-&nbsp;-&nbsp;-&nbsp;-&nbsp;-&nbsp;-&nbsp;-&nbsp;-&nbsp;-&nbsp;-&nbsp;…</td><td>&quot;ham&quot;</td><td>&quot;1999-12-14&quot;</td></tr><tr><td>&hellip;</td><td>&hellip;</td><td>&hellip;</td><td>&hellip;</td><td>&hellip;</td></tr><tr><td>33711</td><td>&quot;=&nbsp;?&nbsp;iso&nbsp;-&nbsp;8859&nbsp;-&nbsp;1&nbsp;?&nbsp;q&nbsp;?&nbsp;good&nbsp;…</td><td>&quot;hello&nbsp;,&nbsp;welcome&nbsp;to&nbsp;gigapharm&nbsp;o…</td><td>&quot;spam&quot;</td><td>&quot;2005-07-29&quot;</td></tr><tr><td>33712</td><td>&quot;all&nbsp;prescript&nbsp;medicines&nbsp;are&nbsp;on…</td><td>&quot;i&nbsp;got&nbsp;it&nbsp;earlier&nbsp;than&nbsp;expected…</td><td>&quot;spam&quot;</td><td>&quot;2005-07-29&quot;</td></tr><tr><td>33713</td><td>&quot;the&nbsp;next&nbsp;generation&nbsp;online&nbsp;pha…</td><td>&quot;are&nbsp;you&nbsp;ready&nbsp;to&nbsp;rock&nbsp;on&nbsp;?&nbsp;let…</td><td>&quot;spam&quot;</td><td>&quot;2005-07-30&quot;</td></tr><tr><td>33714</td><td>&quot;bloow&nbsp;in&nbsp;5&nbsp;-&nbsp;10&nbsp;times&nbsp;the&nbsp;time&quot;</td><td>&quot;learn&nbsp;how&nbsp;to&nbsp;last&nbsp;5&nbsp;-&nbsp;10&nbsp;times…</td><td>&quot;spam&quot;</td><td>&quot;2005-07-30&quot;</td></tr><tr><td>33715</td><td>&quot;dear&nbsp;sir&nbsp;,&nbsp;i&nbsp;am&nbsp;interested&nbsp;in&nbsp;…</td><td>&quot;hi&nbsp;:&nbsp;)\n",
       "do&nbsp;you&nbsp;need&nbsp;some&nbsp;softwa…</td><td>&quot;spam&quot;</td><td>&quot;2005-07-31&quot;</td></tr></tbody></table></div>"
      ],
      "text/plain": [
       "shape: (33_716, 5)\n",
       "┌────────────┬──────────────────────────────┬──────────────────────────────┬──────────┬────────────┐\n",
       "│ Message ID ┆ Subject                      ┆ Message                      ┆ Spam/Ham ┆ Date       │\n",
       "│ ---        ┆ ---                          ┆ ---                          ┆ ---      ┆ ---        │\n",
       "│ i64        ┆ str                          ┆ str                          ┆ str      ┆ str        │\n",
       "╞════════════╪══════════════════════════════╪══════════════════════════════╪══════════╪════════════╡\n",
       "│ 0          ┆ christmas tree farm pictures ┆ null                         ┆ ham      ┆ 1999-12-10 │\n",
       "│ 1          ┆ vastar resources , inc .     ┆ gary , production from the   ┆ ham      ┆ 1999-12-13 │\n",
       "│            ┆                              ┆ hig…                         ┆          ┆            │\n",
       "│ 2          ┆ calpine daily gas nomination ┆ - calpine daily gas          ┆ ham      ┆ 1999-12-14 │\n",
       "│            ┆                              ┆ nomination…                  ┆          ┆            │\n",
       "│ 3          ┆ re : issue                   ┆ fyi - see note below -       ┆ ham      ┆ 1999-12-14 │\n",
       "│            ┆                              ┆ already…                     ┆          ┆            │\n",
       "│ 4          ┆ meter 7268 nov allocation    ┆ fyi .                        ┆ ham      ┆ 1999-12-14 │\n",
       "│            ┆                              ┆ - - - - - - - - - - - - …    ┆          ┆            │\n",
       "│ …          ┆ …                            ┆ …                            ┆ …        ┆ …          │\n",
       "│ 33711      ┆ = ? iso - 8859 - 1 ? q ?     ┆ hello , welcome to gigapharm ┆ spam     ┆ 2005-07-29 │\n",
       "│            ┆ good …                       ┆ o…                           ┆          ┆            │\n",
       "│ 33712      ┆ all prescript medicines are  ┆ i got it earlier than        ┆ spam     ┆ 2005-07-29 │\n",
       "│            ┆ on…                          ┆ expected…                    ┆          ┆            │\n",
       "│ 33713      ┆ the next generation online   ┆ are you ready to rock on ?   ┆ spam     ┆ 2005-07-30 │\n",
       "│            ┆ pha…                         ┆ let…                         ┆          ┆            │\n",
       "│ 33714      ┆ bloow in 5 - 10 times the    ┆ learn how to last 5 - 10     ┆ spam     ┆ 2005-07-30 │\n",
       "│            ┆ time                         ┆ times…                       ┆          ┆            │\n",
       "│ 33715      ┆ dear sir , i am interested   ┆ hi : )                       ┆ spam     ┆ 2005-07-31 │\n",
       "│            ┆ in …                         ┆ do you need some softwa…     ┆          ┆            │\n",
       "└────────────┴──────────────────────────────┴──────────────────────────────┴──────────┴────────────┘"
      ]
     },
     "execution_count": 3,
     "metadata": {},
     "output_type": "execute_result"
    }
   ],
   "source": [
    "import polars as pl\n",
    "\n",
    "df_spam = pl.read_csv(\"enron_spam_data.csv\")\n",
    "df_spam"
   ]
  },
  {
   "cell_type": "markdown",
   "metadata": {},
   "source": [
    "## Most common words\n",
    "\n",
    "In the naive bayes approach the presence of a word is a Bernoulli variable.\n",
    "Each one of them conditionaly indipendent from one another, given the evidence.\n",
    "\n",
    "The evidence in this case is also referred to as the ground truth.\n",
    "\n",
    "The 'spam', 'ham' classification is the ground truth\n",
    "\n",
    "Here we take top 500 most common words to build the bayesian network, every word becomes a variable in the network"
   ]
  },
  {
   "cell_type": "code",
   "execution_count": 4,
   "metadata": {},
   "outputs": [],
   "source": [
    "from collections import Counter\n",
    "\n",
    "df_filtered = df_spam.filter(pl.col(\"Message\").is_not_null())\n",
    "most_common_words = pl.Series(\n",
    "    ' '.join(df_filtered['Message'].str.to_lowercase()).split()\n",
    ").value_counts()\n",
    "\n",
    "most_common_words = most_common_words.filter(pl.col('').str.contains(r'^\\w+$'))"
   ]
  },
  {
   "cell_type": "code",
   "execution_count": 5,
   "metadata": {},
   "outputs": [
    {
     "data": {
      "text/html": [
       "<div><style>\n",
       ".dataframe > thead > tr,\n",
       ".dataframe > tbody > tr {\n",
       "  text-align: right;\n",
       "  white-space: pre-wrap;\n",
       "}\n",
       "</style>\n",
       "<small>shape: (500,)</small><table border=\"1\" class=\"dataframe\"><thead><tr><th></th></tr><tr><td>str</td></tr></thead><tbody><tr><td>&quot;the&quot;</td></tr><tr><td>&quot;to&quot;</td></tr><tr><td>&quot;and&quot;</td></tr><tr><td>&quot;of&quot;</td></tr><tr><td>&quot;a&quot;</td></tr><tr><td>&hellip;</td></tr><tr><td>&quot;street&quot;</td></tr><tr><td>&quot;90&quot;</td></tr><tr><td>&quot;put&quot;</td></tr><tr><td>&quot;sure&quot;</td></tr><tr><td>&quot;states&quot;</td></tr></tbody></table></div>"
      ],
      "text/plain": [
       "shape: (500,)\n",
       "Series: '' [str]\n",
       "[\n",
       "\t\"the\"\n",
       "\t\"to\"\n",
       "\t\"and\"\n",
       "\t\"of\"\n",
       "\t\"a\"\n",
       "\t…\n",
       "\t\"street\"\n",
       "\t\"90\"\n",
       "\t\"put\"\n",
       "\t\"sure\"\n",
       "\t\"states\"\n",
       "]"
      ]
     },
     "execution_count": 5,
     "metadata": {},
     "output_type": "execute_result"
    }
   ],
   "source": [
    "most_common_words['']\n",
    "top_words = most_common_words.sort('count', descending=True)[:500]['']\n",
    "top_words"
   ]
  },
  {
   "cell_type": "markdown",
   "metadata": {},
   "source": [
    "## Building and training the model\n",
    "\n",
    "idk"
   ]
  },
  {
   "cell_type": "code",
   "execution_count": 6,
   "metadata": {},
   "outputs": [],
   "source": [
    "df_filtered = df_filtered.with_columns(\n",
    "    pl.col('Message').str.contains(f\"{word}\").cast(pl.Int32).alias(word) for word in top_words\n",
    ")"
   ]
  },
  {
   "cell_type": "code",
   "execution_count": 7,
   "metadata": {},
   "outputs": [
    {
     "data": {
      "text/html": [
       "<div><style>\n",
       ".dataframe > thead > tr,\n",
       ".dataframe > tbody > tr {\n",
       "  text-align: right;\n",
       "  white-space: pre-wrap;\n",
       "}\n",
       "</style>\n",
       "<small>shape: (33_345, 505)</small><table border=\"1\" class=\"dataframe\"><thead><tr><th>Message ID</th><th>Subject</th><th>Message</th><th>Spam/Ham</th><th>Date</th><th>the</th><th>to</th><th>and</th><th>of</th><th>a</th><th>in</th><th>for</th><th>you</th><th>is</th><th>_</th><th>this</th><th>enron</th><th>on</th><th>that</th><th>i</th><th>s</th><th>with</th><th>be</th><th>your</th><th>we</th><th>as</th><th>from</th><th>have</th><th>will</th><th>it</th><th>are</th><th>ect</th><th>or</th><th>at</th><th>by</th><th>not</th><th>our</th><th>&hellip;</th><th>rights</th><th>point</th><th>v</th><th>quarter</th><th>texas</th><th>director</th><th>short</th><th>once</th><th>numbers</th><th>schedule</th><th>reply</th><th>low</th><th>special</th><th>another</th><th>july</th><th>issues</th><th>check</th><th>meter</th><th>move</th><th>ena</th><th>north</th><th>using</th><th>lon</th><th>soon</th><th>regarding</th><th>issue</th><th>employees</th><th>customer</th><th>k</th><th>stop</th><th>et</th><th>terms</th><th>street</th><th>90</th><th>put</th><th>sure</th><th>states</th></tr><tr><td>i64</td><td>str</td><td>str</td><td>str</td><td>str</td><td>i32</td><td>i32</td><td>i32</td><td>i32</td><td>i32</td><td>i32</td><td>i32</td><td>i32</td><td>i32</td><td>i32</td><td>i32</td><td>i32</td><td>i32</td><td>i32</td><td>i32</td><td>i32</td><td>i32</td><td>i32</td><td>i32</td><td>i32</td><td>i32</td><td>i32</td><td>i32</td><td>i32</td><td>i32</td><td>i32</td><td>i32</td><td>i32</td><td>i32</td><td>i32</td><td>i32</td><td>i32</td><td>&hellip;</td><td>i32</td><td>i32</td><td>i32</td><td>i32</td><td>i32</td><td>i32</td><td>i32</td><td>i32</td><td>i32</td><td>i32</td><td>i32</td><td>i32</td><td>i32</td><td>i32</td><td>i32</td><td>i32</td><td>i32</td><td>i32</td><td>i32</td><td>i32</td><td>i32</td><td>i32</td><td>i32</td><td>i32</td><td>i32</td><td>i32</td><td>i32</td><td>i32</td><td>i32</td><td>i32</td><td>i32</td><td>i32</td><td>i32</td><td>i32</td><td>i32</td><td>i32</td><td>i32</td></tr></thead><tbody><tr><td>1</td><td>&quot;vastar&nbsp;resources&nbsp;,&nbsp;inc&nbsp;.&quot;</td><td>&quot;gary&nbsp;,&nbsp;production&nbsp;from&nbsp;the&nbsp;hig…</td><td>&quot;ham&quot;</td><td>&quot;1999-12-13&quot;</td><td>1</td><td>1</td><td>1</td><td>1</td><td>1</td><td>1</td><td>1</td><td>1</td><td>1</td><td>0</td><td>0</td><td>1</td><td>1</td><td>1</td><td>1</td><td>1</td><td>1</td><td>1</td><td>0</td><td>1</td><td>1</td><td>1</td><td>0</td><td>0</td><td>1</td><td>1</td><td>1</td><td>1</td><td>1</td><td>1</td><td>1</td><td>1</td><td>&hellip;</td><td>0</td><td>0</td><td>1</td><td>0</td><td>0</td><td>0</td><td>0</td><td>0</td><td>1</td><td>0</td><td>0</td><td>1</td><td>0</td><td>0</td><td>0</td><td>0</td><td>0</td><td>0</td><td>0</td><td>0</td><td>1</td><td>0</td><td>0</td><td>0</td><td>0</td><td>0</td><td>0</td><td>0</td><td>1</td><td>0</td><td>1</td><td>0</td><td>0</td><td>1</td><td>0</td><td>0</td><td>0</td></tr><tr><td>2</td><td>&quot;calpine&nbsp;daily&nbsp;gas&nbsp;nomination&quot;</td><td>&quot;-&nbsp;calpine&nbsp;daily&nbsp;gas&nbsp;nomination…</td><td>&quot;ham&quot;</td><td>&quot;1999-12-14&quot;</td><td>0</td><td>0</td><td>0</td><td>0</td><td>1</td><td>1</td><td>0</td><td>0</td><td>0</td><td>0</td><td>0</td><td>0</td><td>1</td><td>0</td><td>1</td><td>1</td><td>0</td><td>0</td><td>0</td><td>0</td><td>1</td><td>0</td><td>0</td><td>0</td><td>0</td><td>0</td><td>0</td><td>0</td><td>1</td><td>0</td><td>0</td><td>0</td><td>&hellip;</td><td>0</td><td>0</td><td>0</td><td>0</td><td>0</td><td>0</td><td>0</td><td>0</td><td>0</td><td>0</td><td>0</td><td>0</td><td>0</td><td>0</td><td>0</td><td>0</td><td>0</td><td>0</td><td>0</td><td>0</td><td>0</td><td>0</td><td>0</td><td>0</td><td>0</td><td>0</td><td>0</td><td>0</td><td>0</td><td>0</td><td>0</td><td>0</td><td>0</td><td>0</td><td>0</td><td>0</td><td>0</td></tr><tr><td>3</td><td>&quot;re&nbsp;:&nbsp;issue&quot;</td><td>&quot;fyi&nbsp;-&nbsp;see&nbsp;note&nbsp;below&nbsp;-&nbsp;already…</td><td>&quot;ham&quot;</td><td>&quot;1999-12-14&quot;</td><td>0</td><td>1</td><td>0</td><td>1</td><td>1</td><td>1</td><td>1</td><td>1</td><td>1</td><td>0</td><td>1</td><td>0</td><td>1</td><td>0</td><td>1</td><td>1</td><td>1</td><td>1</td><td>0</td><td>1</td><td>1</td><td>1</td><td>1</td><td>0</td><td>1</td><td>1</td><td>1</td><td>1</td><td>1</td><td>1</td><td>1</td><td>0</td><td>&hellip;</td><td>0</td><td>0</td><td>1</td><td>0</td><td>0</td><td>0</td><td>0</td><td>0</td><td>0</td><td>0</td><td>0</td><td>1</td><td>0</td><td>0</td><td>0</td><td>0</td><td>0</td><td>1</td><td>0</td><td>0</td><td>0</td><td>0</td><td>0</td><td>0</td><td>0</td><td>1</td><td>0</td><td>0</td><td>1</td><td>0</td><td>1</td><td>0</td><td>0</td><td>0</td><td>0</td><td>0</td><td>0</td></tr><tr><td>4</td><td>&quot;meter&nbsp;7268&nbsp;nov&nbsp;allocation&quot;</td><td>&quot;fyi&nbsp;.\n",
       "-&nbsp;-&nbsp;-&nbsp;-&nbsp;-&nbsp;-&nbsp;-&nbsp;-&nbsp;-&nbsp;-&nbsp;-&nbsp;-&nbsp;…</td><td>&quot;ham&quot;</td><td>&quot;1999-12-14&quot;</td><td>1</td><td>1</td><td>1</td><td>1</td><td>1</td><td>1</td><td>1</td><td>0</td><td>1</td><td>0</td><td>1</td><td>0</td><td>1</td><td>0</td><td>1</td><td>1</td><td>0</td><td>1</td><td>0</td><td>0</td><td>1</td><td>1</td><td>1</td><td>0</td><td>1</td><td>1</td><td>1</td><td>1</td><td>1</td><td>1</td><td>0</td><td>0</td><td>&hellip;</td><td>0</td><td>1</td><td>1</td><td>0</td><td>0</td><td>0</td><td>0</td><td>0</td><td>0</td><td>0</td><td>0</td><td>0</td><td>0</td><td>0</td><td>0</td><td>0</td><td>0</td><td>1</td><td>1</td><td>0</td><td>0</td><td>0</td><td>0</td><td>0</td><td>0</td><td>0</td><td>0</td><td>0</td><td>1</td><td>0</td><td>1</td><td>0</td><td>0</td><td>0</td><td>1</td><td>1</td><td>0</td></tr><tr><td>5</td><td>&quot;mcmullen&nbsp;gas&nbsp;for&nbsp;11&nbsp;/&nbsp;99&quot;</td><td>&quot;jackie&nbsp;,\n",
       "since&nbsp;the&nbsp;inlet&nbsp;to&nbsp;3&nbsp;…</td><td>&quot;ham&quot;</td><td>&quot;1999-12-14&quot;</td><td>1</td><td>1</td><td>1</td><td>1</td><td>1</td><td>1</td><td>1</td><td>0</td><td>1</td><td>0</td><td>1</td><td>0</td><td>1</td><td>0</td><td>1</td><td>1</td><td>0</td><td>1</td><td>0</td><td>1</td><td>1</td><td>1</td><td>0</td><td>0</td><td>0</td><td>0</td><td>0</td><td>1</td><td>1</td><td>0</td><td>0</td><td>0</td><td>&hellip;</td><td>0</td><td>0</td><td>1</td><td>0</td><td>0</td><td>0</td><td>0</td><td>0</td><td>0</td><td>1</td><td>0</td><td>1</td><td>0</td><td>0</td><td>0</td><td>0</td><td>0</td><td>1</td><td>0</td><td>0</td><td>0</td><td>0</td><td>0</td><td>1</td><td>0</td><td>0</td><td>0</td><td>0</td><td>1</td><td>0</td><td>1</td><td>0</td><td>0</td><td>0</td><td>0</td><td>0</td><td>0</td></tr><tr><td>&hellip;</td><td>&hellip;</td><td>&hellip;</td><td>&hellip;</td><td>&hellip;</td><td>&hellip;</td><td>&hellip;</td><td>&hellip;</td><td>&hellip;</td><td>&hellip;</td><td>&hellip;</td><td>&hellip;</td><td>&hellip;</td><td>&hellip;</td><td>&hellip;</td><td>&hellip;</td><td>&hellip;</td><td>&hellip;</td><td>&hellip;</td><td>&hellip;</td><td>&hellip;</td><td>&hellip;</td><td>&hellip;</td><td>&hellip;</td><td>&hellip;</td><td>&hellip;</td><td>&hellip;</td><td>&hellip;</td><td>&hellip;</td><td>&hellip;</td><td>&hellip;</td><td>&hellip;</td><td>&hellip;</td><td>&hellip;</td><td>&hellip;</td><td>&hellip;</td><td>&hellip;</td><td>&hellip;</td><td>&hellip;</td><td>&hellip;</td><td>&hellip;</td><td>&hellip;</td><td>&hellip;</td><td>&hellip;</td><td>&hellip;</td><td>&hellip;</td><td>&hellip;</td><td>&hellip;</td><td>&hellip;</td><td>&hellip;</td><td>&hellip;</td><td>&hellip;</td><td>&hellip;</td><td>&hellip;</td><td>&hellip;</td><td>&hellip;</td><td>&hellip;</td><td>&hellip;</td><td>&hellip;</td><td>&hellip;</td><td>&hellip;</td><td>&hellip;</td><td>&hellip;</td><td>&hellip;</td><td>&hellip;</td><td>&hellip;</td><td>&hellip;</td><td>&hellip;</td><td>&hellip;</td><td>&hellip;</td><td>&hellip;</td><td>&hellip;</td><td>&hellip;</td><td>&hellip;</td><td>&hellip;</td></tr><tr><td>33711</td><td>&quot;=&nbsp;?&nbsp;iso&nbsp;-&nbsp;8859&nbsp;-&nbsp;1&nbsp;?&nbsp;q&nbsp;?&nbsp;good&nbsp;…</td><td>&quot;hello&nbsp;,&nbsp;welcome&nbsp;to&nbsp;gigapharm&nbsp;o…</td><td>&quot;spam&quot;</td><td>&quot;2005-07-29&quot;</td><td>1</td><td>1</td><td>1</td><td>1</td><td>1</td><td>1</td><td>0</td><td>1</td><td>0</td><td>0</td><td>0</td><td>0</td><td>1</td><td>0</td><td>1</td><td>1</td><td>0</td><td>0</td><td>1</td><td>1</td><td>1</td><td>0</td><td>1</td><td>0</td><td>0</td><td>0</td><td>0</td><td>0</td><td>1</td><td>0</td><td>0</td><td>1</td><td>&hellip;</td><td>0</td><td>0</td><td>1</td><td>0</td><td>0</td><td>0</td><td>0</td><td>0</td><td>0</td><td>0</td><td>0</td><td>0</td><td>0</td><td>0</td><td>0</td><td>0</td><td>1</td><td>0</td><td>0</td><td>0</td><td>0</td><td>0</td><td>0</td><td>0</td><td>0</td><td>0</td><td>0</td><td>1</td><td>1</td><td>0</td><td>0</td><td>0</td><td>0</td><td>0</td><td>0</td><td>0</td><td>0</td></tr><tr><td>33712</td><td>&quot;all&nbsp;prescript&nbsp;medicines&nbsp;are&nbsp;on…</td><td>&quot;i&nbsp;got&nbsp;it&nbsp;earlier&nbsp;than&nbsp;expected…</td><td>&quot;spam&quot;</td><td>&quot;2005-07-29&quot;</td><td>1</td><td>1</td><td>1</td><td>1</td><td>1</td><td>1</td><td>1</td><td>1</td><td>1</td><td>0</td><td>0</td><td>0</td><td>1</td><td>1</td><td>1</td><td>1</td><td>1</td><td>1</td><td>1</td><td>1</td><td>1</td><td>0</td><td>0</td><td>1</td><td>1</td><td>0</td><td>1</td><td>1</td><td>1</td><td>0</td><td>0</td><td>1</td><td>&hellip;</td><td>0</td><td>0</td><td>1</td><td>0</td><td>0</td><td>0</td><td>0</td><td>0</td><td>0</td><td>0</td><td>0</td><td>1</td><td>0</td><td>0</td><td>0</td><td>0</td><td>1</td><td>0</td><td>0</td><td>1</td><td>0</td><td>0</td><td>0</td><td>0</td><td>0</td><td>0</td><td>0</td><td>0</td><td>1</td><td>0</td><td>1</td><td>0</td><td>0</td><td>0</td><td>0</td><td>1</td><td>0</td></tr><tr><td>33713</td><td>&quot;the&nbsp;next&nbsp;generation&nbsp;online&nbsp;pha…</td><td>&quot;are&nbsp;you&nbsp;ready&nbsp;to&nbsp;rock&nbsp;on&nbsp;?&nbsp;let…</td><td>&quot;spam&quot;</td><td>&quot;2005-07-30&quot;</td><td>1</td><td>1</td><td>0</td><td>1</td><td>1</td><td>1</td><td>0</td><td>1</td><td>1</td><td>0</td><td>0</td><td>0</td><td>1</td><td>0</td><td>1</td><td>1</td><td>0</td><td>1</td><td>1</td><td>1</td><td>0</td><td>0</td><td>1</td><td>0</td><td>1</td><td>1</td><td>0</td><td>1</td><td>1</td><td>0</td><td>0</td><td>1</td><td>&hellip;</td><td>0</td><td>0</td><td>1</td><td>0</td><td>0</td><td>0</td><td>0</td><td>0</td><td>0</td><td>0</td><td>0</td><td>0</td><td>0</td><td>0</td><td>0</td><td>0</td><td>0</td><td>0</td><td>0</td><td>0</td><td>0</td><td>0</td><td>0</td><td>0</td><td>0</td><td>0</td><td>0</td><td>0</td><td>1</td><td>0</td><td>1</td><td>0</td><td>0</td><td>0</td><td>0</td><td>0</td><td>0</td></tr><tr><td>33714</td><td>&quot;bloow&nbsp;in&nbsp;5&nbsp;-&nbsp;10&nbsp;times&nbsp;the&nbsp;time&quot;</td><td>&quot;learn&nbsp;how&nbsp;to&nbsp;last&nbsp;5&nbsp;-&nbsp;10&nbsp;times…</td><td>&quot;spam&quot;</td><td>&quot;2005-07-30&quot;</td><td>0</td><td>1</td><td>0</td><td>0</td><td>1</td><td>1</td><td>0</td><td>0</td><td>0</td><td>0</td><td>0</td><td>0</td><td>1</td><td>0</td><td>1</td><td>1</td><td>0</td><td>1</td><td>0</td><td>0</td><td>1</td><td>0</td><td>0</td><td>0</td><td>0</td><td>0</td><td>0</td><td>0</td><td>0</td><td>0</td><td>0</td><td>0</td><td>&hellip;</td><td>0</td><td>0</td><td>0</td><td>0</td><td>0</td><td>0</td><td>0</td><td>0</td><td>0</td><td>0</td><td>0</td><td>0</td><td>0</td><td>0</td><td>0</td><td>0</td><td>0</td><td>0</td><td>0</td><td>0</td><td>0</td><td>0</td><td>1</td><td>0</td><td>0</td><td>0</td><td>0</td><td>0</td><td>0</td><td>0</td><td>1</td><td>0</td><td>0</td><td>0</td><td>0</td><td>0</td><td>0</td></tr><tr><td>33715</td><td>&quot;dear&nbsp;sir&nbsp;,&nbsp;i&nbsp;am&nbsp;interested&nbsp;in&nbsp;…</td><td>&quot;hi&nbsp;:&nbsp;)\n",
       "do&nbsp;you&nbsp;need&nbsp;some&nbsp;softwa…</td><td>&quot;spam&quot;</td><td>&quot;2005-07-31&quot;</td><td>1</td><td>1</td><td>1</td><td>1</td><td>1</td><td>1</td><td>1</td><td>1</td><td>1</td><td>0</td><td>1</td><td>0</td><td>1</td><td>0</td><td>1</td><td>1</td><td>0</td><td>1</td><td>1</td><td>1</td><td>1</td><td>0</td><td>1</td><td>1</td><td>1</td><td>1</td><td>0</td><td>1</td><td>1</td><td>0</td><td>0</td><td>1</td><td>&hellip;</td><td>0</td><td>0</td><td>1</td><td>0</td><td>0</td><td>0</td><td>0</td><td>1</td><td>0</td><td>0</td><td>0</td><td>0</td><td>0</td><td>0</td><td>0</td><td>0</td><td>0</td><td>0</td><td>0</td><td>0</td><td>0</td><td>0</td><td>0</td><td>0</td><td>0</td><td>0</td><td>0</td><td>0</td><td>1</td><td>0</td><td>1</td><td>0</td><td>0</td><td>0</td><td>0</td><td>0</td><td>0</td></tr></tbody></table></div>"
      ],
      "text/plain": [
       "shape: (33_345, 505)\n",
       "┌────────────┬─────────────────────┬────────────────────┬──────────┬───┬─────┬─────┬──────┬────────┐\n",
       "│ Message ID ┆ Subject             ┆ Message            ┆ Spam/Ham ┆ … ┆ 90  ┆ put ┆ sure ┆ states │\n",
       "│ ---        ┆ ---                 ┆ ---                ┆ ---      ┆   ┆ --- ┆ --- ┆ ---  ┆ ---    │\n",
       "│ i64        ┆ str                 ┆ str                ┆ str      ┆   ┆ i32 ┆ i32 ┆ i32  ┆ i32    │\n",
       "╞════════════╪═════════════════════╪════════════════════╪══════════╪═══╪═════╪═════╪══════╪════════╡\n",
       "│ 1          ┆ vastar resources ,  ┆ gary , production  ┆ ham      ┆ … ┆ 1   ┆ 0   ┆ 0    ┆ 0      │\n",
       "│            ┆ inc .               ┆ from the hig…      ┆          ┆   ┆     ┆     ┆      ┆        │\n",
       "│ 2          ┆ calpine daily gas   ┆ - calpine daily    ┆ ham      ┆ … ┆ 0   ┆ 0   ┆ 0    ┆ 0      │\n",
       "│            ┆ nomination          ┆ gas nomination…    ┆          ┆   ┆     ┆     ┆      ┆        │\n",
       "│ 3          ┆ re : issue          ┆ fyi - see note     ┆ ham      ┆ … ┆ 0   ┆ 0   ┆ 0    ┆ 0      │\n",
       "│            ┆                     ┆ below - already…   ┆          ┆   ┆     ┆     ┆      ┆        │\n",
       "│ 4          ┆ meter 7268 nov      ┆ fyi .              ┆ ham      ┆ … ┆ 0   ┆ 1   ┆ 1    ┆ 0      │\n",
       "│            ┆ allocation          ┆ - - - - - - - - -  ┆          ┆   ┆     ┆     ┆      ┆        │\n",
       "│            ┆                     ┆ - - - …            ┆          ┆   ┆     ┆     ┆      ┆        │\n",
       "│ 5          ┆ mcmullen gas for 11 ┆ jackie ,           ┆ ham      ┆ … ┆ 0   ┆ 0   ┆ 0    ┆ 0      │\n",
       "│            ┆ / 99                ┆ since the inlet to ┆          ┆   ┆     ┆     ┆      ┆        │\n",
       "│            ┆                     ┆ 3 …                ┆          ┆   ┆     ┆     ┆      ┆        │\n",
       "│ …          ┆ …                   ┆ …                  ┆ …        ┆ … ┆ …   ┆ …   ┆ …    ┆ …      │\n",
       "│ 33711      ┆ = ? iso - 8859 - 1  ┆ hello , welcome to ┆ spam     ┆ … ┆ 0   ┆ 0   ┆ 0    ┆ 0      │\n",
       "│            ┆ ? q ? good …        ┆ gigapharm o…       ┆          ┆   ┆     ┆     ┆      ┆        │\n",
       "│ 33712      ┆ all prescript       ┆ i got it earlier   ┆ spam     ┆ … ┆ 0   ┆ 0   ┆ 1    ┆ 0      │\n",
       "│            ┆ medicines are on…   ┆ than expected…     ┆          ┆   ┆     ┆     ┆      ┆        │\n",
       "│ 33713      ┆ the next generation ┆ are you ready to   ┆ spam     ┆ … ┆ 0   ┆ 0   ┆ 0    ┆ 0      │\n",
       "│            ┆ online pha…         ┆ rock on ? let…     ┆          ┆   ┆     ┆     ┆      ┆        │\n",
       "│ 33714      ┆ bloow in 5 - 10     ┆ learn how to last  ┆ spam     ┆ … ┆ 0   ┆ 0   ┆ 0    ┆ 0      │\n",
       "│            ┆ times the time      ┆ 5 - 10 times…      ┆          ┆   ┆     ┆     ┆      ┆        │\n",
       "│ 33715      ┆ dear sir , i am     ┆ hi : )             ┆ spam     ┆ … ┆ 0   ┆ 0   ┆ 0    ┆ 0      │\n",
       "│            ┆ interested in …     ┆ do you need some   ┆          ┆   ┆     ┆     ┆      ┆        │\n",
       "│            ┆                     ┆ softwa…            ┆          ┆   ┆     ┆     ┆      ┆        │\n",
       "└────────────┴─────────────────────┴────────────────────┴──────────┴───┴─────┴─────┴──────┴────────┘"
      ]
     },
     "execution_count": 7,
     "metadata": {},
     "output_type": "execute_result"
    }
   ],
   "source": [
    "df_filtered"
   ]
  },
  {
   "cell_type": "code",
   "execution_count": 8,
   "metadata": {},
   "outputs": [
    {
     "data": {
      "text/html": [
       "<div><style>\n",
       ".dataframe > thead > tr,\n",
       ".dataframe > tbody > tr {\n",
       "  text-align: right;\n",
       "  white-space: pre-wrap;\n",
       "}\n",
       "</style>\n",
       "<small>shape: (2, 501)</small><table border=\"1\" class=\"dataframe\"><thead><tr><th>Spam/Ham</th><th>count_the</th><th>count_to</th><th>count_and</th><th>count_of</th><th>count_a</th><th>count_in</th><th>count_for</th><th>count_you</th><th>count_is</th><th>count__</th><th>count_this</th><th>count_enron</th><th>count_on</th><th>count_that</th><th>count_i</th><th>count_s</th><th>count_with</th><th>count_be</th><th>count_your</th><th>count_we</th><th>count_as</th><th>count_from</th><th>count_have</th><th>count_will</th><th>count_it</th><th>count_are</th><th>count_ect</th><th>count_or</th><th>count_at</th><th>count_by</th><th>count_not</th><th>count_our</th><th>count_com</th><th>count_if</th><th>count_company</th><th>count_1</th><th>&hellip;</th><th>count_rights</th><th>count_point</th><th>count_v</th><th>count_quarter</th><th>count_texas</th><th>count_director</th><th>count_short</th><th>count_once</th><th>count_numbers</th><th>count_schedule</th><th>count_reply</th><th>count_low</th><th>count_special</th><th>count_another</th><th>count_july</th><th>count_issues</th><th>count_check</th><th>count_meter</th><th>count_move</th><th>count_ena</th><th>count_north</th><th>count_using</th><th>count_lon</th><th>count_soon</th><th>count_regarding</th><th>count_issue</th><th>count_employees</th><th>count_customer</th><th>count_k</th><th>count_stop</th><th>count_et</th><th>count_terms</th><th>count_street</th><th>count_90</th><th>count_put</th><th>count_sure</th><th>count_states</th></tr><tr><td>str</td><td>i32</td><td>i32</td><td>i32</td><td>i32</td><td>i32</td><td>i32</td><td>i32</td><td>i32</td><td>i32</td><td>i32</td><td>i32</td><td>i32</td><td>i32</td><td>i32</td><td>i32</td><td>i32</td><td>i32</td><td>i32</td><td>i32</td><td>i32</td><td>i32</td><td>i32</td><td>i32</td><td>i32</td><td>i32</td><td>i32</td><td>i32</td><td>i32</td><td>i32</td><td>i32</td><td>i32</td><td>i32</td><td>i32</td><td>i32</td><td>i32</td><td>i32</td><td>&hellip;</td><td>i32</td><td>i32</td><td>i32</td><td>i32</td><td>i32</td><td>i32</td><td>i32</td><td>i32</td><td>i32</td><td>i32</td><td>i32</td><td>i32</td><td>i32</td><td>i32</td><td>i32</td><td>i32</td><td>i32</td><td>i32</td><td>i32</td><td>i32</td><td>i32</td><td>i32</td><td>i32</td><td>i32</td><td>i32</td><td>i32</td><td>i32</td><td>i32</td><td>i32</td><td>i32</td><td>i32</td><td>i32</td><td>i32</td><td>i32</td><td>i32</td><td>i32</td><td>i32</td></tr></thead><tbody><tr><td>&quot;spam&quot;</td><td>13017</td><td>14801</td><td>12632</td><td>12114</td><td>16649</td><td>15888</td><td>11502</td><td>12538</td><td>14446</td><td>1725</td><td>7297</td><td>1</td><td>15456</td><td>5967</td><td>16698</td><td>16604</td><td>7513</td><td>12843</td><td>9526</td><td>11509</td><td>13003</td><td>6075</td><td>7013</td><td>4961</td><td>14547</td><td>9151</td><td>7452</td><td>15311</td><td>14745</td><td>5577</td><td>7201</td><td>11966</td><td>10362</td><td>8721</td><td>2467</td><td>9219</td><td>&hellip;</td><td>377</td><td>948</td><td>15849</td><td>374</td><td>169</td><td>864</td><td>745</td><td>1675</td><td>664</td><td>110</td><td>1408</td><td>5210</td><td>2027</td><td>530</td><td>288</td><td>157</td><td>1515</td><td>295</td><td>2687</td><td>1398</td><td>576</td><td>988</td><td>3220</td><td>911</td><td>450</td><td>624</td><td>90</td><td>1698</td><td>14924</td><td>1967</td><td>12811</td><td>713</td><td>359</td><td>1441</td><td>2059</td><td>2012</td><td>1129</td></tr><tr><td>&quot;ham&quot;</td><td>13834</td><td>13948</td><td>12378</td><td>10996</td><td>16436</td><td>15037</td><td>13225</td><td>10979</td><td>14173</td><td>1223</td><td>8948</td><td>7439</td><td>14820</td><td>7753</td><td>16341</td><td>16388</td><td>8189</td><td>12244</td><td>5827</td><td>11856</td><td>13769</td><td>7930</td><td>8819</td><td>8204</td><td>12594</td><td>8789</td><td>10567</td><td>14768</td><td>15122</td><td>6770</td><td>7048</td><td>9763</td><td>8746</td><td>10077</td><td>1584</td><td>12767</td><td>&hellip;</td><td>316</td><td>1681</td><td>14738</td><td>464</td><td>1093</td><td>1054</td><td>1057</td><td>1943</td><td>671</td><td>2638</td><td>389</td><td>5644</td><td>866</td><td>950</td><td>989</td><td>1235</td><td>962</td><td>917</td><td>1341</td><td>1863</td><td>1334</td><td>1037</td><td>3056</td><td>1120</td><td>1339</td><td>2087</td><td>776</td><td>1074</td><td>14898</td><td>698</td><td>12563</td><td>606</td><td>572</td><td>1236</td><td>1991</td><td>2682</td><td>408</td></tr></tbody></table></div>"
      ],
      "text/plain": [
       "shape: (2, 501)\n",
       "┌──────────┬───────────┬──────────┬───────────┬───┬──────────┬───────────┬────────────┬────────────┐\n",
       "│ Spam/Ham ┆ count_the ┆ count_to ┆ count_and ┆ … ┆ count_90 ┆ count_put ┆ count_sure ┆ count_stat │\n",
       "│ ---      ┆ ---       ┆ ---      ┆ ---       ┆   ┆ ---      ┆ ---       ┆ ---        ┆ es         │\n",
       "│ str      ┆ i32       ┆ i32      ┆ i32       ┆   ┆ i32      ┆ i32       ┆ i32        ┆ ---        │\n",
       "│          ┆           ┆          ┆           ┆   ┆          ┆           ┆            ┆ i32        │\n",
       "╞══════════╪═══════════╪══════════╪═══════════╪═══╪══════════╪═══════════╪════════════╪════════════╡\n",
       "│ spam     ┆ 13017     ┆ 14801    ┆ 12632     ┆ … ┆ 1441     ┆ 2059      ┆ 2012       ┆ 1129       │\n",
       "│ ham      ┆ 13834     ┆ 13948    ┆ 12378     ┆ … ┆ 1236     ┆ 1991      ┆ 2682       ┆ 408        │\n",
       "└──────────┴───────────┴──────────┴───────────┴───┴──────────┴───────────┴────────────┴────────────┘"
      ]
     },
     "execution_count": 8,
     "metadata": {},
     "output_type": "execute_result"
    }
   ],
   "source": [
    "word_counts = df_filtered.group_by('Spam/Ham').agg(\n",
    "    pl.sum(word).alias(f'count_{word}') for word in top_words\n",
    ")\n",
    "word_counts"
   ]
  },
  {
   "cell_type": "code",
   "execution_count": 9,
   "metadata": {},
   "outputs": [
    {
     "data": {
      "text/html": [
       "<div><style>\n",
       ".dataframe > thead > tr,\n",
       ".dataframe > tbody > tr {\n",
       "  text-align: right;\n",
       "  white-space: pre-wrap;\n",
       "}\n",
       "</style>\n",
       "<small>shape: (2, 1_001)</small><table border=\"1\" class=\"dataframe\"><thead><tr><th>Spam/Ham</th><th>count_the</th><th>count_to</th><th>count_and</th><th>count_of</th><th>count_a</th><th>count_in</th><th>count_for</th><th>count_you</th><th>count_is</th><th>count__</th><th>count_this</th><th>count_enron</th><th>count_on</th><th>count_that</th><th>count_i</th><th>count_s</th><th>count_with</th><th>count_be</th><th>count_your</th><th>count_we</th><th>count_as</th><th>count_from</th><th>count_have</th><th>count_will</th><th>count_it</th><th>count_are</th><th>count_ect</th><th>count_or</th><th>count_at</th><th>count_by</th><th>count_not</th><th>count_our</th><th>count_com</th><th>count_if</th><th>count_company</th><th>count_1</th><th>&hellip;</th><th>rights</th><th>point</th><th>v</th><th>quarter</th><th>texas</th><th>director</th><th>short</th><th>once</th><th>numbers</th><th>schedule</th><th>reply</th><th>low</th><th>special</th><th>another</th><th>july</th><th>issues</th><th>check</th><th>meter</th><th>move</th><th>ena</th><th>north</th><th>using</th><th>lon</th><th>soon</th><th>regarding</th><th>issue</th><th>employees</th><th>customer</th><th>k</th><th>stop</th><th>et</th><th>terms</th><th>street</th><th>90</th><th>put</th><th>sure</th><th>states</th></tr><tr><td>str</td><td>i32</td><td>i32</td><td>i32</td><td>i32</td><td>i32</td><td>i32</td><td>i32</td><td>i32</td><td>i32</td><td>i32</td><td>i32</td><td>i32</td><td>i32</td><td>i32</td><td>i32</td><td>i32</td><td>i32</td><td>i32</td><td>i32</td><td>i32</td><td>i32</td><td>i32</td><td>i32</td><td>i32</td><td>i32</td><td>i32</td><td>i32</td><td>i32</td><td>i32</td><td>i32</td><td>i32</td><td>i32</td><td>i32</td><td>i32</td><td>i32</td><td>i32</td><td>&hellip;</td><td>f64</td><td>f64</td><td>f64</td><td>f64</td><td>f64</td><td>f64</td><td>f64</td><td>f64</td><td>f64</td><td>f64</td><td>f64</td><td>f64</td><td>f64</td><td>f64</td><td>f64</td><td>f64</td><td>f64</td><td>f64</td><td>f64</td><td>f64</td><td>f64</td><td>f64</td><td>f64</td><td>f64</td><td>f64</td><td>f64</td><td>f64</td><td>f64</td><td>f64</td><td>f64</td><td>f64</td><td>f64</td><td>f64</td><td>f64</td><td>f64</td><td>f64</td><td>f64</td></tr></thead><tbody><tr><td>&quot;spam&quot;</td><td>13017</td><td>14801</td><td>12632</td><td>12114</td><td>16649</td><td>15888</td><td>11502</td><td>12538</td><td>14446</td><td>1725</td><td>7297</td><td>1</td><td>15456</td><td>5967</td><td>16698</td><td>16604</td><td>7513</td><td>12843</td><td>9526</td><td>11509</td><td>13003</td><td>6075</td><td>7013</td><td>4961</td><td>14547</td><td>9151</td><td>7452</td><td>15311</td><td>14745</td><td>5577</td><td>7201</td><td>11966</td><td>10362</td><td>8721</td><td>2467</td><td>9219</td><td>&hellip;</td><td>0.022428</td><td>0.056307</td><td>0.94043</td><td>0.02225</td><td>0.010087</td><td>0.051323</td><td>0.044262</td><td>0.099442</td><td>0.039457</td><td>0.006586</td><td>0.0836</td><td>0.309185</td><td>0.120328</td><td>0.031506</td><td>0.017147</td><td>0.009375</td><td>0.089949</td><td>0.017563</td><td>0.159487</td><td>0.083007</td><td>0.034235</td><td>0.05868</td><td>0.191112</td><td>0.054112</td><td>0.026759</td><td>0.037083</td><td>0.005399</td><td>0.100807</td><td>0.885546</td><td>0.116768</td><td>0.760176</td><td>0.042364</td><td>0.02136</td><td>0.085558</td><td>0.122226</td><td>0.119438</td><td>0.067046</td></tr><tr><td>&quot;ham&quot;</td><td>13834</td><td>13948</td><td>12378</td><td>10996</td><td>16436</td><td>15037</td><td>13225</td><td>10979</td><td>14173</td><td>1223</td><td>8948</td><td>7439</td><td>14820</td><td>7753</td><td>16341</td><td>16388</td><td>8189</td><td>12244</td><td>5827</td><td>11856</td><td>13769</td><td>7930</td><td>8819</td><td>8204</td><td>12594</td><td>8789</td><td>10567</td><td>14768</td><td>15122</td><td>6770</td><td>7048</td><td>9763</td><td>8746</td><td>10077</td><td>1584</td><td>12767</td><td>&hellip;</td><td>0.019218</td><td>0.10197</td><td>0.893543</td><td>0.02819</td><td>0.066323</td><td>0.063959</td><td>0.064141</td><td>0.117854</td><td>0.04074</td><td>0.159988</td><td>0.023644</td><td>0.342225</td><td>0.052561</td><td>0.057654</td><td>0.060018</td><td>0.074932</td><td>0.058381</td><td>0.055653</td><td>0.081358</td><td>0.113004</td><td>0.080934</td><td>0.062928</td><td>0.185329</td><td>0.06796</td><td>0.081237</td><td>0.126584</td><td>0.047105</td><td>0.065171</td><td>0.903243</td><td>0.042376</td><td>0.761685</td><td>0.036799</td><td>0.034738</td><td>0.074992</td><td>0.120764</td><td>0.162655</td><td>0.024795</td></tr></tbody></table></div>"
      ],
      "text/plain": [
       "shape: (2, 1_001)\n",
       "┌──────────┬───────────┬──────────┬───────────┬───┬──────────┬──────────┬──────────┬──────────┐\n",
       "│ Spam/Ham ┆ count_the ┆ count_to ┆ count_and ┆ … ┆ 90       ┆ put      ┆ sure     ┆ states   │\n",
       "│ ---      ┆ ---       ┆ ---      ┆ ---       ┆   ┆ ---      ┆ ---      ┆ ---      ┆ ---      │\n",
       "│ str      ┆ i32       ┆ i32      ┆ i32       ┆   ┆ f64      ┆ f64      ┆ f64      ┆ f64      │\n",
       "╞══════════╪═══════════╪══════════╪═══════════╪═══╪══════════╪══════════╪══════════╪══════════╡\n",
       "│ spam     ┆ 13017     ┆ 14801    ┆ 12632     ┆ … ┆ 0.085558 ┆ 0.122226 ┆ 0.119438 ┆ 0.067046 │\n",
       "│ ham      ┆ 13834     ┆ 13948    ┆ 12378     ┆ … ┆ 0.074992 ┆ 0.120764 ┆ 0.162655 ┆ 0.024795 │\n",
       "└──────────┴───────────┴──────────┴───────────┴───┴──────────┴──────────┴──────────┴──────────┘"
      ]
     },
     "execution_count": 9,
     "metadata": {},
     "output_type": "execute_result"
    }
   ],
   "source": [
    "totals = df_filtered.group_by('Spam/Ham').len().rename({\"len\": \"total\"})\n",
    "\n",
    "probabilities = word_counts.join(totals, on='Spam/Ham')\n",
    "\n",
    "# column naming is not very intuitive, but \"melts\" better\n",
    "# +1 and +2 terms are used for Laplace Smoothing, assuming 50% chance of getting a spam email\n",
    "probabilities = probabilities.with_columns(\n",
    "    (\n",
    "        (pl.col(f\"count_{word}\") + 1) / \n",
    "        (pl.col(\"total\") + 2 )\n",
    "    ).alias(f\"{word}\") for word in top_words\n",
    ")\n",
    "\n",
    "probabilities"
   ]
  },
  {
   "cell_type": "code",
   "execution_count": 10,
   "metadata": {},
   "outputs": [
    {
     "data": {
      "text/html": [
       "<div><style>\n",
       ".dataframe > thead > tr,\n",
       ".dataframe > tbody > tr {\n",
       "  text-align: right;\n",
       "  white-space: pre-wrap;\n",
       "}\n",
       "</style>\n",
       "<small>shape: (500, 3)</small><table border=\"1\" class=\"dataframe\"><thead><tr><th>word</th><th>spam</th><th>ham</th></tr><tr><td>str</td><td>f64</td><td>f64</td></tr></thead><tbody><tr><td>&quot;the&quot;</td><td>0.772398</td><td>0.838739</td></tr><tr><td>&quot;to&quot;</td><td>0.878248</td><td>0.84565</td></tr><tr><td>&quot;and&quot;</td><td>0.749555</td><td>0.75047</td></tr><tr><td>&quot;of&quot;</td><td>0.71882</td><td>0.666687</td></tr><tr><td>&quot;a&quot;</td><td>0.987896</td><td>0.996484</td></tr><tr><td>&hellip;</td><td>&hellip;</td><td>&hellip;</td></tr><tr><td>&quot;street&quot;</td><td>0.02136</td><td>0.034738</td></tr><tr><td>&quot;90&quot;</td><td>0.085558</td><td>0.074992</td></tr><tr><td>&quot;put&quot;</td><td>0.122226</td><td>0.120764</td></tr><tr><td>&quot;sure&quot;</td><td>0.119438</td><td>0.162655</td></tr><tr><td>&quot;states&quot;</td><td>0.067046</td><td>0.024795</td></tr></tbody></table></div>"
      ],
      "text/plain": [
       "shape: (500, 3)\n",
       "┌────────┬──────────┬──────────┐\n",
       "│ word   ┆ spam     ┆ ham      │\n",
       "│ ---    ┆ ---      ┆ ---      │\n",
       "│ str    ┆ f64      ┆ f64      │\n",
       "╞════════╪══════════╪══════════╡\n",
       "│ the    ┆ 0.772398 ┆ 0.838739 │\n",
       "│ to     ┆ 0.878248 ┆ 0.84565  │\n",
       "│ and    ┆ 0.749555 ┆ 0.75047  │\n",
       "│ of     ┆ 0.71882  ┆ 0.666687 │\n",
       "│ a      ┆ 0.987896 ┆ 0.996484 │\n",
       "│ …      ┆ …        ┆ …        │\n",
       "│ street ┆ 0.02136  ┆ 0.034738 │\n",
       "│ 90     ┆ 0.085558 ┆ 0.074992 │\n",
       "│ put    ┆ 0.122226 ┆ 0.120764 │\n",
       "│ sure   ┆ 0.119438 ┆ 0.162655 │\n",
       "│ states ┆ 0.067046 ┆ 0.024795 │\n",
       "└────────┴──────────┴──────────┘"
      ]
     },
     "execution_count": 10,
     "metadata": {},
     "output_type": "execute_result"
    }
   ],
   "source": [
    "final_df = probabilities.select([\n",
    "    \"Spam/Ham\", *[ f\"{word}\" for word in top_words ]\n",
    "    ])\n",
    "\n",
    "final_df = final_df.unpivot(index=\"Spam/Ham\", variable_name=\"word\").pivot(\"Spam/Ham\", index=\"word\")\n",
    "\n",
    "final_df"
   ]
  },
  {
   "cell_type": "markdown",
   "metadata": {},
   "source": [
    "# Testing the model\n",
    "\n",
    "fitting is done, now its time to test the model"
   ]
  },
  {
   "cell_type": "code",
   "execution_count": null,
   "metadata": {},
   "outputs": [],
   "source": [
    "import numpy as np\n",
    "\n",
    "total_emails = df_filtered.shape[0]\n",
    "\n",
    "spam_emails = totals.filter(pl.col(\"Spam/Ham\") == \"spam\").select(\"total\").row(0)[0]\n",
    "\n",
    "p_spam = spam_emails/total_emails\n",
    "\n",
    "p_ham = 1 - p_spam"
   ]
  },
  {
   "cell_type": "code",
   "execution_count": 51,
   "metadata": {},
   "outputs": [
    {
     "name": "stdout",
     "output_type": "stream",
     "text": [
      "shape: (1, 2)\n",
      "┌─────────────────────────┬──────────┐\n",
      "│ Message                 ┆ Spam/Ham │\n",
      "│ ---                     ┆ ---      │\n",
      "│ str                     ┆ str      │\n",
      "╞═════════════════════════╪══════════╡\n",
      "│ hello ,                 ┆ spam     │\n",
      "│ did you ejaculate befo… ┆          │\n",
      "└─────────────────────────┴──────────┘\n",
      "Ground Truth: spam\n",
      "---\n",
      "Spam Score: -65.7027319955643\n",
      "Ham Score : -70.79989174359073\n",
      "Computed spam probability: 0.9999920046628925\n",
      "Verdict: spam\n"
     ]
    }
   ],
   "source": [
    "email_text = df_filtered.select(\"Message\", \"Spam/Ham\")[33100]\n",
    "\n",
    "print(email_text)\n",
    "\n",
    "print(f\"Ground Truth: {email_text[\"Spam/Ham\"][0]}\\n---\")\n",
    "\n",
    "words = pl.Series(\n",
    "    ' '.join(email_text['Message'].str.to_lowercase()).split()\n",
    ")\n",
    "\n",
    "score_spam = np.log(p_spam)\n",
    "\n",
    "score_ham = np.log(p_ham)\n",
    "\n",
    "for word in words:\n",
    "    word_probs = final_df.filter(pl.col(\"word\") == word)\n",
    "    if not word_probs.is_empty():\n",
    "        P_word_spam = word_probs[\"spam\"][0]\n",
    "        P_word_ham = word_probs[\"ham\"][0]\n",
    "        score_spam += np.log(P_word_spam)\n",
    "        score_ham += np.log(P_word_ham)\n",
    "\n",
    "print(f\"Spam Score: {score_spam}\")\n",
    "print(f\"Ham Score : {score_ham}\")\n",
    "\n",
    "spam_probability = np.pow(10, score_spam) / (np.pow(10, score_spam) + np.pow(10, score_ham))\n",
    "\n",
    "print(f\"Computed spam probability: {spam_probability}\")\n",
    "print(f\"Verdict: {\"spam\" if score_spam > score_ham else \"ham\"}\")"
   ]
  }
 ],
 "metadata": {
  "kernelspec": {
   "display_name": "venv",
   "language": "python",
   "name": "python3"
  },
  "language_info": {
   "codemirror_mode": {
    "name": "ipython",
    "version": 3
   },
   "file_extension": ".py",
   "mimetype": "text/x-python",
   "name": "python",
   "nbconvert_exporter": "python",
   "pygments_lexer": "ipython3",
   "version": "3.13.0"
  }
 },
 "nbformat": 4,
 "nbformat_minor": 2
}
